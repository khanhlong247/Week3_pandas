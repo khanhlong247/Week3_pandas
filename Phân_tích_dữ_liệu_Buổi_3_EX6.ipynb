{
  "cells": [
    {
      "cell_type": "markdown",
      "metadata": {
        "pycharm": {
          "name": "#%% md\n"
        },
        "id": "O7U4zsv2XBve"
      },
      "source": [
        "# Fictitious Names"
      ]
    },
    {
      "cell_type": "markdown",
      "metadata": {
        "pycharm": {
          "name": "#%% md\n"
        },
        "id": "V5sPHie0XBvh"
      },
      "source": [
        "### Introduction:\n",
        "\n",
        "This time you will create a data again\n",
        "\n",
        "Special thanks to [Chris Albon](http://chrisalbon.com/) for sharing the dataset and materials.\n",
        "All the credits to this exercise belongs to him.  \n",
        "\n",
        "In order to understand about it go [here](https://blog.codinghorror.com/a-visual-explanation-of-sql-joins/).\n",
        "\n",
        "### Step 1. Import the necessary libraries"
      ]
    },
    {
      "cell_type": "code",
      "execution_count": null,
      "metadata": {
        "pycharm": {
          "name": "#%%\n"
        },
        "id": "FY7V2UpfXBvi"
      },
      "outputs": [],
      "source": [
        "import pandas as pd"
      ]
    },
    {
      "cell_type": "markdown",
      "metadata": {
        "pycharm": {
          "name": "#%% md\n"
        },
        "id": "V1G-7WehXBvj"
      },
      "source": [
        "### Step 2. Create the 3 DataFrames based on the following raw data"
      ]
    },
    {
      "cell_type": "code",
      "execution_count": null,
      "metadata": {
        "collapsed": true,
        "pycharm": {
          "name": "#%%\n"
        },
        "id": "TTNT3MGSXBvj"
      },
      "outputs": [],
      "source": [
        "raw_data_1 = {\n",
        "        'subject_id': ['1', '2', '3', '4', '5'],\n",
        "        'first_name': ['Alex', 'Amy', 'Allen', 'Alice', 'Ayoung'],\n",
        "        'last_name': ['Anderson', 'Ackerman', 'Ali', 'Aoni', 'Atiches']}\n",
        "\n",
        "raw_data_2 = {\n",
        "        'subject_id': ['4', '5', '6', '7', '8'],\n",
        "        'first_name': ['Billy', 'Brian', 'Bran', 'Bryce', 'Betty'],\n",
        "        'last_name': ['Bonder', 'Black', 'Balwner', 'Brice', 'Btisan']}\n",
        "\n",
        "raw_data_3 = {\n",
        "        'subject_id': ['1', '2', '3', '4', '5', '7', '8', '9', '10', '11'],\n",
        "        'test_id': [51, 15, 15, 61, 16, 14, 15, 1, 61, 16]}"
      ]
    },
    {
      "cell_type": "markdown",
      "metadata": {
        "pycharm": {
          "name": "#%% md\n"
        },
        "id": "h-KrIPB1XBvk"
      },
      "source": [
        "### Step 3. Assign each to a variable called data1, data2, data3"
      ]
    },
    {
      "cell_type": "code",
      "execution_count": null,
      "metadata": {
        "pycharm": {
          "name": "#%%\n"
        },
        "colab": {
          "base_uri": "https://localhost:8080/"
        },
        "id": "CMESJfnvXBvk",
        "outputId": "678a0746-ba9e-46c6-97f2-ef08fea88c06"
      },
      "outputs": [
        {
          "output_type": "stream",
          "name": "stdout",
          "text": [
            "  subject_id first_name last_name\n",
            "0          1       Alex  Anderson\n",
            "1          2        Amy  Ackerman\n",
            "2          3      Allen       Ali\n",
            "3          4      Alice      Aoni\n",
            "4          5     Ayoung   Atiches\n",
            "\n",
            "\n",
            "  subject_id first_name last_name\n",
            "0          4      Billy    Bonder\n",
            "1          5      Brian     Black\n",
            "2          6       Bran   Balwner\n",
            "3          7      Bryce     Brice\n",
            "4          8      Betty    Btisan\n",
            "\n",
            "\n",
            "  subject_id  test_id\n",
            "0          1       51\n",
            "1          2       15\n",
            "2          3       15\n",
            "3          4       61\n",
            "4          5       16\n",
            "5          7       14\n",
            "6          8       15\n",
            "7          9        1\n",
            "8         10       61\n",
            "9         11       16\n"
          ]
        }
      ],
      "source": [
        "data1 = pd.DataFrame(raw_data_1)\n",
        "data2 = pd.DataFrame(raw_data_2)\n",
        "data3 = pd.DataFrame(raw_data_3)\n",
        "\n",
        "print(data1)\n",
        "print('\\n')\n",
        "print(data2)\n",
        "print('\\n')\n",
        "print(data3)"
      ]
    },
    {
      "cell_type": "markdown",
      "metadata": {
        "pycharm": {
          "name": "#%% md\n"
        },
        "id": "ajg7Xa2SXBvk"
      },
      "source": [
        "### Step 4. Join the two dataframes along rows and assign all_data"
      ]
    },
    {
      "cell_type": "code",
      "execution_count": null,
      "metadata": {
        "pycharm": {
          "name": "#%%\n"
        },
        "colab": {
          "base_uri": "https://localhost:8080/"
        },
        "id": "iHZqQbD5XBvk",
        "outputId": "d7222eeb-5f05-407a-bfb3-456332c8a3d7"
      },
      "outputs": [
        {
          "output_type": "stream",
          "name": "stdout",
          "text": [
            "  subject_id first_name last_name\n",
            "0          1       Alex  Anderson\n",
            "1          2        Amy  Ackerman\n",
            "2          3      Allen       Ali\n",
            "3          4      Alice      Aoni\n",
            "4          5     Ayoung   Atiches\n",
            "5          4      Billy    Bonder\n",
            "6          5      Brian     Black\n",
            "7          6       Bran   Balwner\n",
            "8          7      Bryce     Brice\n",
            "9          8      Betty    Btisan\n"
          ]
        }
      ],
      "source": [
        "all_data = pd.concat([data1, data2], axis=0, ignore_index=True)\n",
        "\n",
        "print(all_data)"
      ]
    },
    {
      "cell_type": "markdown",
      "metadata": {
        "pycharm": {
          "name": "#%% md\n"
        },
        "id": "Jm09iOD6XBvl"
      },
      "source": [
        "### Step 5. Join the two dataframes along columns and assing to all_data_col"
      ]
    },
    {
      "cell_type": "code",
      "execution_count": null,
      "metadata": {
        "pycharm": {
          "name": "#%%\n"
        },
        "colab": {
          "base_uri": "https://localhost:8080/"
        },
        "id": "ZIPYYj6QXBvl",
        "outputId": "89e1c26c-001a-4cb4-e6d8-3d92262c0f11"
      },
      "outputs": [
        {
          "output_type": "stream",
          "name": "stdout",
          "text": [
            "  subject_id first_name last_name subject_id first_name last_name\n",
            "0          1       Alex  Anderson          4      Billy    Bonder\n",
            "1          2        Amy  Ackerman          5      Brian     Black\n",
            "2          3      Allen       Ali          6       Bran   Balwner\n",
            "3          4      Alice      Aoni          7      Bryce     Brice\n",
            "4          5     Ayoung   Atiches          8      Betty    Btisan\n"
          ]
        }
      ],
      "source": [
        "all_data_col = pd.concat([data1, data2], axis=1)\n",
        "\n",
        "print(all_data_col)"
      ]
    },
    {
      "cell_type": "markdown",
      "metadata": {
        "pycharm": {
          "name": "#%% md\n"
        },
        "id": "rIjzx8KQXBvm"
      },
      "source": [
        "### Step 6. Print data3"
      ]
    },
    {
      "cell_type": "code",
      "execution_count": null,
      "metadata": {
        "pycharm": {
          "name": "#%%\n"
        },
        "colab": {
          "base_uri": "https://localhost:8080/"
        },
        "id": "u5sWlGOsXBvm",
        "outputId": "8475ca39-5f1e-4a5c-b81f-45e5c4b9a899"
      },
      "outputs": [
        {
          "output_type": "stream",
          "name": "stdout",
          "text": [
            "  subject_id  test_id\n",
            "0          1       51\n",
            "1          2       15\n",
            "2          3       15\n",
            "3          4       61\n",
            "4          5       16\n",
            "5          7       14\n",
            "6          8       15\n",
            "7          9        1\n",
            "8         10       61\n",
            "9         11       16\n"
          ]
        }
      ],
      "source": [
        "print(data3)"
      ]
    },
    {
      "cell_type": "markdown",
      "metadata": {
        "pycharm": {
          "name": "#%% md\n"
        },
        "id": "e15gVyE_XBvm"
      },
      "source": [
        "### Step 7. Merge all_data and data3 along the subject_id value"
      ]
    },
    {
      "cell_type": "code",
      "execution_count": null,
      "metadata": {
        "pycharm": {
          "name": "#%%\n"
        },
        "colab": {
          "base_uri": "https://localhost:8080/"
        },
        "id": "CFIHBnZ_XBvm",
        "outputId": "866fb8da-8966-4249-ed27-276521c46132"
      },
      "outputs": [
        {
          "output_type": "stream",
          "name": "stdout",
          "text": [
            "  subject_id first_name last_name  test_id_x  test_id_y\n",
            "0          1       Alex  Anderson         51         51\n",
            "1          2        Amy  Ackerman         15         15\n",
            "2          3      Allen       Ali         15         15\n",
            "3          4      Alice      Aoni         61         61\n",
            "4          5     Ayoung   Atiches         16         16\n",
            "5          4      Billy    Bonder         61         61\n",
            "6          5      Brian     Black         16         16\n",
            "7          7      Bryce     Brice         14         14\n",
            "8          8      Betty    Btisan         15         15\n"
          ]
        }
      ],
      "source": [
        "all_data = pd.merge(all_data, data3, on='subject_id', how='inner')\n",
        "\n",
        "print(all_data)"
      ]
    },
    {
      "cell_type": "markdown",
      "metadata": {
        "pycharm": {
          "name": "#%% md\n"
        },
        "id": "2FVF3BlfXBvm"
      },
      "source": [
        "### Step 8. Merge only the data that has the same 'subject_id' on both data1 and data2"
      ]
    },
    {
      "cell_type": "code",
      "execution_count": null,
      "metadata": {
        "pycharm": {
          "name": "#%%\n"
        },
        "colab": {
          "base_uri": "https://localhost:8080/"
        },
        "id": "jga1z93NXBvm",
        "outputId": "4a37accc-b083-4af8-f6a6-dbb87489d0f3"
      },
      "outputs": [
        {
          "output_type": "stream",
          "name": "stdout",
          "text": [
            "  subject_id first_name_x last_name_x first_name_y last_name_y\n",
            "0          4        Alice        Aoni        Billy      Bonder\n",
            "1          5       Ayoung     Atiches        Brian       Black\n"
          ]
        }
      ],
      "source": [
        "merged_data = pd.merge(data1, data2, on='subject_id', how='inner')\n",
        "\n",
        "print(merged_data)"
      ]
    },
    {
      "cell_type": "markdown",
      "metadata": {
        "pycharm": {
          "name": "#%% md\n"
        },
        "id": "GC6Ai5neXBvm"
      },
      "source": [
        "### Step 9. Merge all values in data1 and data2, with matching records from both sides where available."
      ]
    },
    {
      "cell_type": "code",
      "execution_count": null,
      "metadata": {
        "pycharm": {
          "name": "#%%\n"
        },
        "colab": {
          "base_uri": "https://localhost:8080/"
        },
        "id": "dbMt33Q0XBvn",
        "outputId": "1ed8c69a-9ffb-4f67-f7ab-b61517e0b4fb"
      },
      "outputs": [
        {
          "output_type": "stream",
          "name": "stdout",
          "text": [
            "  subject_id first_name_x last_name_x first_name_y last_name_y\n",
            "0          1         Alex    Anderson          NaN         NaN\n",
            "1          2          Amy    Ackerman          NaN         NaN\n",
            "2          3        Allen         Ali          NaN         NaN\n",
            "3          4        Alice        Aoni        Billy      Bonder\n",
            "4          5       Ayoung     Atiches        Brian       Black\n",
            "5          6          NaN         NaN         Bran     Balwner\n",
            "6          7          NaN         NaN        Bryce       Brice\n",
            "7          8          NaN         NaN        Betty      Btisan\n"
          ]
        }
      ],
      "source": [
        "merged_data1 = pd.merge(data1, data2, on='subject_id', how='outer')\n",
        "\n",
        "print(merged_data1)"
      ]
    }
  ],
  "metadata": {
    "kernelspec": {
      "display_name": "Python 2",
      "language": "python",
      "name": "python2"
    },
    "language_info": {
      "codemirror_mode": {
        "name": "ipython",
        "version": 2
      },
      "file_extension": ".py",
      "mimetype": "text/x-python",
      "name": "python",
      "nbconvert_exporter": "python",
      "pygments_lexer": "ipython2",
      "version": "2.7.11"
    },
    "colab": {
      "provenance": []
    }
  },
  "nbformat": 4,
  "nbformat_minor": 0
}